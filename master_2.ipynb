{
 "cells": [
  {
   "cell_type": "markdown",
   "id": "9c1b33d3",
   "metadata": {},
   "source": [
    "# Описание"
   ]
  },
  {
   "cell_type": "markdown",
   "id": "89bd214c",
   "metadata": {},
   "source": [
    "Необходимо разработать модель, предсказывающую уровнь английского языка субтиров."
   ]
  },
  {
   "cell_type": "markdown",
   "id": "59a25b80",
   "metadata": {},
   "source": [
    "# Загрузка и подготовка данных"
   ]
  },
  {
   "cell_type": "markdown",
   "id": "ea0adfc7",
   "metadata": {},
   "source": [
    "Импортируем нужные библиотеки"
   ]
  },
  {
   "cell_type": "code",
   "execution_count": 1,
   "id": "181fe62b",
   "metadata": {},
   "outputs": [],
   "source": [
    "import os\n",
    "from os import listdir\n",
    "import zipfile\n",
    "import numpy as np\n",
    "import pandas as pd\n",
    "import pysrt\n",
    "from chardet.universaldetector import UniversalDetector\n",
    "import spacy\n",
    "import re\n",
    "import string\n",
    "from bs4 import BeautifulSoup\n",
    "import nltk\n",
    "import sklearn\n",
    "from sklearn.feature_extraction.text import CountVectorizer\n",
    "from sklearn.feature_extraction.text import TfidfTransformer\n",
    "from sklearn.linear_model import LogisticRegression\n",
    "from sklearn.ensemble import RandomForestClassifier\n",
    "from xgboost import XGBClassifier\n",
    "from sklearn.pipeline import Pipeline\n",
    "from sklearn.model_selection import train_test_split\n",
    "from sklearn.metrics import accuracy_score\n",
    "from sklearn.metrics import precision_score\n",
    "from sklearn.metrics import recall_score\n",
    "from sklearn.metrics import f1_score"
   ]
  },
  {
   "cell_type": "markdown",
   "id": "f1375c88",
   "metadata": {},
   "source": [
    "Загрузим данные"
   ]
  },
  {
   "cell_type": "code",
   "execution_count": 2,
   "id": "1999f8ca",
   "metadata": {},
   "outputs": [],
   "source": [
    "NLP = spacy.load('en_core_web_sm', disable=['parser', 'ner'])"
   ]
  },
  {
   "cell_type": "code",
   "execution_count": 3,
   "id": "731e7fd5",
   "metadata": {
    "scrolled": false
   },
   "outputs": [],
   "source": [
    "with zipfile.ZipFile('English_scores.zip') as data:\n",
    "    data.extractall('datasets')"
   ]
  },
  {
   "cell_type": "code",
   "execution_count": 4,
   "id": "b57e22b6",
   "metadata": {},
   "outputs": [],
   "source": [
    "sub_path = 'datasets/Subtitles_all'"
   ]
  },
  {
   "cell_type": "code",
   "execution_count": 5,
   "id": "841a9e5a",
   "metadata": {},
   "outputs": [
    {
     "data": {
      "text/plain": [
       "['B2', 'A2', 'C1', 'B1', 'Subtitles']"
      ]
     },
     "execution_count": 5,
     "metadata": {},
     "output_type": "execute_result"
    }
   ],
   "source": [
    "sub_dirs = [d for d in os.listdir(sub_path) if os.path.isdir('/'.join([sub_path, d]))]\n",
    "sub_dirs"
   ]
  },
  {
   "cell_type": "code",
   "execution_count": 6,
   "id": "1d69b93d",
   "metadata": {},
   "outputs": [],
   "source": [
    "df = pd.DataFrame()\n",
    "for d in sub_dirs:\n",
    "    path_to_movie = '/'.join([sub_path, d])\n",
    "    movies = [f for f in listdir(path_to_movie) if os.path.isfile('/'.join([path_to_movie, f]))]\n",
    "    m = {}\n",
    "    m['level'] = [d] * len(movies)\n",
    "    m['movies'] = movies\n",
    "    m['path'] = [path_to_movie] * len(movies)\n",
    "    df = pd.concat([df, pd.DataFrame(m)])\n",
    "df = df.reset_index(drop = True)\n",
    "df['srt'] = df['movies'].apply(lambda x: x.endswith('.srt'))\n",
    "df['path'] = df['path'] + '/' + df['movies']"
   ]
  },
  {
   "cell_type": "code",
   "execution_count": 7,
   "id": "61c7a991",
   "metadata": {},
   "outputs": [
    {
     "data": {
      "text/html": [
       "<div>\n",
       "<style scoped>\n",
       "    .dataframe tbody tr th:only-of-type {\n",
       "        vertical-align: middle;\n",
       "    }\n",
       "\n",
       "    .dataframe tbody tr th {\n",
       "        vertical-align: top;\n",
       "    }\n",
       "\n",
       "    .dataframe thead th {\n",
       "        text-align: right;\n",
       "    }\n",
       "</style>\n",
       "<table border=\"1\" class=\"dataframe\">\n",
       "  <thead>\n",
       "    <tr style=\"text-align: right;\">\n",
       "      <th></th>\n",
       "      <th>level</th>\n",
       "      <th>movies</th>\n",
       "      <th>path</th>\n",
       "      <th>srt</th>\n",
       "    </tr>\n",
       "  </thead>\n",
       "  <tbody>\n",
       "    <tr>\n",
       "      <th>0</th>\n",
       "      <td>B2</td>\n",
       "      <td>Crown, The S01E01 - Wolferton Splash.en.srt</td>\n",
       "      <td>datasets/Subtitles_all/B2/Crown, The S01E01 - ...</td>\n",
       "      <td>True</td>\n",
       "    </tr>\n",
       "    <tr>\n",
       "      <th>1</th>\n",
       "      <td>B2</td>\n",
       "      <td>Suits.Episode 1- Denial.srt</td>\n",
       "      <td>datasets/Subtitles_all/B2/Suits.Episode 1- Den...</td>\n",
       "      <td>True</td>\n",
       "    </tr>\n",
       "    <tr>\n",
       "      <th>2</th>\n",
       "      <td>B2</td>\n",
       "      <td>Crazy4TV.com - Suits.S06E06.720p.BluRay.x265.H...</td>\n",
       "      <td>datasets/Subtitles_all/B2/Crazy4TV.com - Suits...</td>\n",
       "      <td>True</td>\n",
       "    </tr>\n",
       "    <tr>\n",
       "      <th>3</th>\n",
       "      <td>B2</td>\n",
       "      <td>Suits.S02E08.HDTV.x264-EVOLVE.srt</td>\n",
       "      <td>datasets/Subtitles_all/B2/Suits.S02E08.HDTV.x2...</td>\n",
       "      <td>True</td>\n",
       "    </tr>\n",
       "    <tr>\n",
       "      <th>4</th>\n",
       "      <td>B2</td>\n",
       "      <td>Virgin.River.S01E07.INTERNAL.720p.WEB.x264-STR...</td>\n",
       "      <td>datasets/Subtitles_all/B2/Virgin.River.S01E07....</td>\n",
       "      <td>True</td>\n",
       "    </tr>\n",
       "  </tbody>\n",
       "</table>\n",
       "</div>"
      ],
      "text/plain": [
       "  level                                             movies  \\\n",
       "0    B2        Crown, The S01E01 - Wolferton Splash.en.srt   \n",
       "1    B2                        Suits.Episode 1- Denial.srt   \n",
       "2    B2  Crazy4TV.com - Suits.S06E06.720p.BluRay.x265.H...   \n",
       "3    B2                  Suits.S02E08.HDTV.x264-EVOLVE.srt   \n",
       "4    B2  Virgin.River.S01E07.INTERNAL.720p.WEB.x264-STR...   \n",
       "\n",
       "                                                path   srt  \n",
       "0  datasets/Subtitles_all/B2/Crown, The S01E01 - ...  True  \n",
       "1  datasets/Subtitles_all/B2/Suits.Episode 1- Den...  True  \n",
       "2  datasets/Subtitles_all/B2/Crazy4TV.com - Suits...  True  \n",
       "3  datasets/Subtitles_all/B2/Suits.S02E08.HDTV.x2...  True  \n",
       "4  datasets/Subtitles_all/B2/Virgin.River.S01E07....  True  "
      ]
     },
     "execution_count": 7,
     "metadata": {},
     "output_type": "execute_result"
    }
   ],
   "source": [
    "df.head()"
   ]
  },
  {
   "cell_type": "markdown",
   "id": "5f56481b",
   "metadata": {},
   "source": [
    "Проверим все ли файлы имеют формат субтитров"
   ]
  },
  {
   "cell_type": "code",
   "execution_count": 8,
   "id": "d75abe27",
   "metadata": {},
   "outputs": [
    {
     "data": {
      "text/plain": [
       "279"
      ]
     },
     "execution_count": 8,
     "metadata": {},
     "output_type": "execute_result"
    }
   ],
   "source": [
    "df.shape[0]"
   ]
  },
  {
   "cell_type": "code",
   "execution_count": 9,
   "id": "87476d17",
   "metadata": {},
   "outputs": [
    {
     "data": {
      "text/plain": [
       "278"
      ]
     },
     "execution_count": 9,
     "metadata": {},
     "output_type": "execute_result"
    }
   ],
   "source": [
    "df['srt'].sum()"
   ]
  },
  {
   "cell_type": "code",
   "execution_count": 10,
   "id": "14021f5c",
   "metadata": {},
   "outputs": [
    {
     "data": {
      "text/html": [
       "<div>\n",
       "<style scoped>\n",
       "    .dataframe tbody tr th:only-of-type {\n",
       "        vertical-align: middle;\n",
       "    }\n",
       "\n",
       "    .dataframe tbody tr th {\n",
       "        vertical-align: top;\n",
       "    }\n",
       "\n",
       "    .dataframe thead th {\n",
       "        text-align: right;\n",
       "    }\n",
       "</style>\n",
       "<table border=\"1\" class=\"dataframe\">\n",
       "  <thead>\n",
       "    <tr style=\"text-align: right;\">\n",
       "      <th></th>\n",
       "      <th>level</th>\n",
       "      <th>movies</th>\n",
       "      <th>path</th>\n",
       "      <th>srt</th>\n",
       "    </tr>\n",
       "  </thead>\n",
       "  <tbody>\n",
       "    <tr>\n",
       "      <th>175</th>\n",
       "      <td>Subtitles</td>\n",
       "      <td>.DS_Store</td>\n",
       "      <td>datasets/Subtitles_all/Subtitles/.DS_Store</td>\n",
       "      <td>False</td>\n",
       "    </tr>\n",
       "  </tbody>\n",
       "</table>\n",
       "</div>"
      ],
      "text/plain": [
       "         level     movies                                        path    srt\n",
       "175  Subtitles  .DS_Store  datasets/Subtitles_all/Subtitles/.DS_Store  False"
      ]
     },
     "execution_count": 10,
     "metadata": {},
     "output_type": "execute_result"
    }
   ],
   "source": [
    "df.query('srt != True')"
   ]
  },
  {
   "cell_type": "code",
   "execution_count": 11,
   "id": "c9353bcb",
   "metadata": {},
   "outputs": [],
   "source": [
    "df = df.drop(df.query('srt != True').index[0])"
   ]
  },
  {
   "cell_type": "code",
   "execution_count": 12,
   "id": "805482b3",
   "metadata": {},
   "outputs": [
    {
     "data": {
      "text/plain": [
       "278"
      ]
     },
     "execution_count": 12,
     "metadata": {},
     "output_type": "execute_result"
    }
   ],
   "source": [
    "df.shape[0]"
   ]
  },
  {
   "cell_type": "code",
   "execution_count": 13,
   "id": "ef895431",
   "metadata": {},
   "outputs": [
    {
     "data": {
      "text/plain": [
       "278"
      ]
     },
     "execution_count": 13,
     "metadata": {},
     "output_type": "execute_result"
    }
   ],
   "source": [
    "df['srt'].sum()"
   ]
  },
  {
   "cell_type": "markdown",
   "id": "de09b311",
   "metadata": {},
   "source": [
    "Одна строка содержала данные не являющиеся субтитрами. Удалили эту строку. Далее удалим более не нужный столбец srt. \n",
    "\n",
    "Из названий фильмов удалим расширение.\n",
    "\n",
    "Посмотрим какие категории фильмов получились."
   ]
  },
  {
   "cell_type": "code",
   "execution_count": 14,
   "id": "f2177128",
   "metadata": {},
   "outputs": [],
   "source": [
    "df = df.drop('srt', axis = 1)\n",
    "df = df.reset_index(drop=True)"
   ]
  },
  {
   "cell_type": "code",
   "execution_count": 15,
   "id": "458257ad",
   "metadata": {},
   "outputs": [],
   "source": [
    "df['movies'] = df['movies'].apply(lambda x: x[:-4])"
   ]
  },
  {
   "cell_type": "code",
   "execution_count": 16,
   "id": "fe574a67",
   "metadata": {},
   "outputs": [
    {
     "data": {
      "text/html": [
       "<div>\n",
       "<style scoped>\n",
       "    .dataframe tbody tr th:only-of-type {\n",
       "        vertical-align: middle;\n",
       "    }\n",
       "\n",
       "    .dataframe tbody tr th {\n",
       "        vertical-align: top;\n",
       "    }\n",
       "\n",
       "    .dataframe thead th {\n",
       "        text-align: right;\n",
       "    }\n",
       "</style>\n",
       "<table border=\"1\" class=\"dataframe\">\n",
       "  <thead>\n",
       "    <tr style=\"text-align: right;\">\n",
       "      <th></th>\n",
       "      <th>level</th>\n",
       "      <th>movies</th>\n",
       "      <th>path</th>\n",
       "    </tr>\n",
       "  </thead>\n",
       "  <tbody>\n",
       "    <tr>\n",
       "      <th>0</th>\n",
       "      <td>B2</td>\n",
       "      <td>Crown, The S01E01 - Wolferton Splash.en</td>\n",
       "      <td>datasets/Subtitles_all/B2/Crown, The S01E01 - ...</td>\n",
       "    </tr>\n",
       "    <tr>\n",
       "      <th>1</th>\n",
       "      <td>B2</td>\n",
       "      <td>Suits.Episode 1- Denial</td>\n",
       "      <td>datasets/Subtitles_all/B2/Suits.Episode 1- Den...</td>\n",
       "    </tr>\n",
       "    <tr>\n",
       "      <th>2</th>\n",
       "      <td>B2</td>\n",
       "      <td>Crazy4TV.com - Suits.S06E06.720p.BluRay.x265.H...</td>\n",
       "      <td>datasets/Subtitles_all/B2/Crazy4TV.com - Suits...</td>\n",
       "    </tr>\n",
       "    <tr>\n",
       "      <th>3</th>\n",
       "      <td>B2</td>\n",
       "      <td>Suits.S02E08.HDTV.x264-EVOLVE</td>\n",
       "      <td>datasets/Subtitles_all/B2/Suits.S02E08.HDTV.x2...</td>\n",
       "    </tr>\n",
       "    <tr>\n",
       "      <th>4</th>\n",
       "      <td>B2</td>\n",
       "      <td>Virgin.River.S01E07.INTERNAL.720p.WEB.x264-STRiFE</td>\n",
       "      <td>datasets/Subtitles_all/B2/Virgin.River.S01E07....</td>\n",
       "    </tr>\n",
       "  </tbody>\n",
       "</table>\n",
       "</div>"
      ],
      "text/plain": [
       "  level                                             movies  \\\n",
       "0    B2            Crown, The S01E01 - Wolferton Splash.en   \n",
       "1    B2                            Suits.Episode 1- Denial   \n",
       "2    B2  Crazy4TV.com - Suits.S06E06.720p.BluRay.x265.H...   \n",
       "3    B2                      Suits.S02E08.HDTV.x264-EVOLVE   \n",
       "4    B2  Virgin.River.S01E07.INTERNAL.720p.WEB.x264-STRiFE   \n",
       "\n",
       "                                                path  \n",
       "0  datasets/Subtitles_all/B2/Crown, The S01E01 - ...  \n",
       "1  datasets/Subtitles_all/B2/Suits.Episode 1- Den...  \n",
       "2  datasets/Subtitles_all/B2/Crazy4TV.com - Suits...  \n",
       "3  datasets/Subtitles_all/B2/Suits.S02E08.HDTV.x2...  \n",
       "4  datasets/Subtitles_all/B2/Virgin.River.S01E07....  "
      ]
     },
     "execution_count": 16,
     "metadata": {},
     "output_type": "execute_result"
    }
   ],
   "source": [
    "df.head()"
   ]
  },
  {
   "cell_type": "code",
   "execution_count": 17,
   "id": "27e3a54f",
   "metadata": {},
   "outputs": [
    {
     "data": {
      "text/plain": [
       "array(['B2', 'A2', 'C1', 'B1', 'Subtitles'], dtype=object)"
      ]
     },
     "execution_count": 17,
     "metadata": {},
     "output_type": "execute_result"
    }
   ],
   "source": [
    "df['level'].unique()"
   ]
  },
  {
   "cell_type": "markdown",
   "id": "af1c9c15",
   "metadata": {},
   "source": [
    "Видим что среди категорий есть 'Subtitles'.\n",
    "\n",
    "Загрузим дополнительные данные из имеющегося эксель файла."
   ]
  },
  {
   "cell_type": "code",
   "execution_count": 18,
   "id": "71aceb0b",
   "metadata": {},
   "outputs": [
    {
     "data": {
      "text/html": [
       "<div>\n",
       "<style scoped>\n",
       "    .dataframe tbody tr th:only-of-type {\n",
       "        vertical-align: middle;\n",
       "    }\n",
       "\n",
       "    .dataframe tbody tr th {\n",
       "        vertical-align: top;\n",
       "    }\n",
       "\n",
       "    .dataframe thead th {\n",
       "        text-align: right;\n",
       "    }\n",
       "</style>\n",
       "<table border=\"1\" class=\"dataframe\">\n",
       "  <thead>\n",
       "    <tr style=\"text-align: right;\">\n",
       "      <th></th>\n",
       "      <th>id</th>\n",
       "      <th>Movie</th>\n",
       "      <th>Level</th>\n",
       "    </tr>\n",
       "  </thead>\n",
       "  <tbody>\n",
       "    <tr>\n",
       "      <th>0</th>\n",
       "      <td>0</td>\n",
       "      <td>10_Cloverfield_lane(2016)</td>\n",
       "      <td>B1</td>\n",
       "    </tr>\n",
       "    <tr>\n",
       "      <th>1</th>\n",
       "      <td>1</td>\n",
       "      <td>10_things_I_hate_about_you(1999)</td>\n",
       "      <td>B1</td>\n",
       "    </tr>\n",
       "    <tr>\n",
       "      <th>2</th>\n",
       "      <td>2</td>\n",
       "      <td>A_knights_tale(2001)</td>\n",
       "      <td>B2</td>\n",
       "    </tr>\n",
       "    <tr>\n",
       "      <th>3</th>\n",
       "      <td>3</td>\n",
       "      <td>A_star_is_born(2018)</td>\n",
       "      <td>B2</td>\n",
       "    </tr>\n",
       "    <tr>\n",
       "      <th>4</th>\n",
       "      <td>4</td>\n",
       "      <td>Aladdin(1992)</td>\n",
       "      <td>A2/A2+</td>\n",
       "    </tr>\n",
       "  </tbody>\n",
       "</table>\n",
       "</div>"
      ],
      "text/plain": [
       "   id                             Movie   Level\n",
       "0   0         10_Cloverfield_lane(2016)      B1\n",
       "1   1  10_things_I_hate_about_you(1999)      B1\n",
       "2   2              A_knights_tale(2001)      B2\n",
       "3   3              A_star_is_born(2018)      B2\n",
       "4   4                     Aladdin(1992)  A2/A2+"
      ]
     },
     "execution_count": 18,
     "metadata": {},
     "output_type": "execute_result"
    }
   ],
   "source": [
    "movies_labels = pd.read_excel('datasets/movies_labels.xlsx')\n",
    "movies_labels.head()"
   ]
  },
  {
   "cell_type": "code",
   "execution_count": 19,
   "id": "be268604",
   "metadata": {},
   "outputs": [
    {
     "data": {
      "text/plain": [
       "4"
      ]
     },
     "execution_count": 19,
     "metadata": {},
     "output_type": "execute_result"
    }
   ],
   "source": [
    "movies_labels.duplicated(subset = ['Movie']).sum()"
   ]
  },
  {
   "cell_type": "code",
   "execution_count": 20,
   "id": "92b7a10a",
   "metadata": {},
   "outputs": [
    {
     "data": {
      "text/html": [
       "<div>\n",
       "<style scoped>\n",
       "    .dataframe tbody tr th:only-of-type {\n",
       "        vertical-align: middle;\n",
       "    }\n",
       "\n",
       "    .dataframe tbody tr th {\n",
       "        vertical-align: top;\n",
       "    }\n",
       "\n",
       "    .dataframe thead th {\n",
       "        text-align: right;\n",
       "    }\n",
       "</style>\n",
       "<table border=\"1\" class=\"dataframe\">\n",
       "  <thead>\n",
       "    <tr style=\"text-align: right;\">\n",
       "      <th></th>\n",
       "      <th>id</th>\n",
       "      <th>Movie</th>\n",
       "      <th>Level</th>\n",
       "    </tr>\n",
       "  </thead>\n",
       "  <tbody>\n",
       "    <tr>\n",
       "      <th>38</th>\n",
       "      <td>38</td>\n",
       "      <td>Powder(1995)</td>\n",
       "      <td>B1</td>\n",
       "    </tr>\n",
       "    <tr>\n",
       "      <th>43</th>\n",
       "      <td>43</td>\n",
       "      <td>Inside_out(2015)</td>\n",
       "      <td>B1</td>\n",
       "    </tr>\n",
       "    <tr>\n",
       "      <th>44</th>\n",
       "      <td>44</td>\n",
       "      <td>Inside_out(2015)</td>\n",
       "      <td>B1</td>\n",
       "    </tr>\n",
       "    <tr>\n",
       "      <th>68</th>\n",
       "      <td>68</td>\n",
       "      <td>Powder(1995)</td>\n",
       "      <td>B1</td>\n",
       "    </tr>\n",
       "    <tr>\n",
       "      <th>75</th>\n",
       "      <td>75</td>\n",
       "      <td>The_blind_side(2009)</td>\n",
       "      <td>B2</td>\n",
       "    </tr>\n",
       "    <tr>\n",
       "      <th>83</th>\n",
       "      <td>83</td>\n",
       "      <td>The_terminal(2004)</td>\n",
       "      <td>B1</td>\n",
       "    </tr>\n",
       "    <tr>\n",
       "      <th>84</th>\n",
       "      <td>84</td>\n",
       "      <td>The_blind_side(2009)</td>\n",
       "      <td>B1</td>\n",
       "    </tr>\n",
       "    <tr>\n",
       "      <th>99</th>\n",
       "      <td>99</td>\n",
       "      <td>The_terminal(2004)</td>\n",
       "      <td>A2/A2+, B1</td>\n",
       "    </tr>\n",
       "  </tbody>\n",
       "</table>\n",
       "</div>"
      ],
      "text/plain": [
       "    id                 Movie       Level\n",
       "38  38          Powder(1995)          B1\n",
       "43  43      Inside_out(2015)          B1\n",
       "44  44      Inside_out(2015)          B1\n",
       "68  68          Powder(1995)          B1\n",
       "75  75  The_blind_side(2009)          B2\n",
       "83  83    The_terminal(2004)          B1\n",
       "84  84  The_blind_side(2009)          B1\n",
       "99  99    The_terminal(2004)  A2/A2+, B1"
      ]
     },
     "execution_count": 20,
     "metadata": {},
     "output_type": "execute_result"
    }
   ],
   "source": [
    "movies_labels[movies_labels.duplicated(subset = ['Movie'], keep = False)]"
   ]
  },
  {
   "cell_type": "markdown",
   "id": "54c86315",
   "metadata": {},
   "source": [
    "В эксель файле содержатся 4 дубликата, удалим их."
   ]
  },
  {
   "cell_type": "code",
   "execution_count": 21,
   "id": "8fdd0091",
   "metadata": {},
   "outputs": [],
   "source": [
    "movies_labels = movies_labels.drop_duplicates(subset = ['Movie'])"
   ]
  },
  {
   "cell_type": "code",
   "execution_count": 22,
   "id": "dab84a1b",
   "metadata": {},
   "outputs": [
    {
     "data": {
      "text/html": [
       "<div>\n",
       "<style scoped>\n",
       "    .dataframe tbody tr th:only-of-type {\n",
       "        vertical-align: middle;\n",
       "    }\n",
       "\n",
       "    .dataframe tbody tr th {\n",
       "        vertical-align: top;\n",
       "    }\n",
       "\n",
       "    .dataframe thead th {\n",
       "        text-align: right;\n",
       "    }\n",
       "</style>\n",
       "<table border=\"1\" class=\"dataframe\">\n",
       "  <thead>\n",
       "    <tr style=\"text-align: right;\">\n",
       "      <th></th>\n",
       "      <th>id</th>\n",
       "      <th>Movie</th>\n",
       "      <th>Level</th>\n",
       "    </tr>\n",
       "  </thead>\n",
       "  <tbody>\n",
       "  </tbody>\n",
       "</table>\n",
       "</div>"
      ],
      "text/plain": [
       "Empty DataFrame\n",
       "Columns: [id, Movie, Level]\n",
       "Index: []"
      ]
     },
     "execution_count": 22,
     "metadata": {},
     "output_type": "execute_result"
    }
   ],
   "source": [
    "movies_labels[movies_labels.duplicated(subset = ['Movie'], keep = False)]"
   ]
  },
  {
   "cell_type": "markdown",
   "id": "58513832",
   "metadata": {},
   "source": [
    "Присоединим данные из эксель файла к основной таблице.\n",
    "\n",
    "Установим уровни языка."
   ]
  },
  {
   "cell_type": "code",
   "execution_count": 23,
   "id": "9fba243f",
   "metadata": {},
   "outputs": [],
   "source": [
    "df = df.merge(movies_labels, how='left', left_on='movies', right_on='Movie')"
   ]
  },
  {
   "cell_type": "code",
   "execution_count": 24,
   "id": "b4cc710d",
   "metadata": {},
   "outputs": [
    {
     "data": {
      "text/html": [
       "<div>\n",
       "<style scoped>\n",
       "    .dataframe tbody tr th:only-of-type {\n",
       "        vertical-align: middle;\n",
       "    }\n",
       "\n",
       "    .dataframe tbody tr th {\n",
       "        vertical-align: top;\n",
       "    }\n",
       "\n",
       "    .dataframe thead th {\n",
       "        text-align: right;\n",
       "    }\n",
       "</style>\n",
       "<table border=\"1\" class=\"dataframe\">\n",
       "  <thead>\n",
       "    <tr style=\"text-align: right;\">\n",
       "      <th></th>\n",
       "      <th>level</th>\n",
       "      <th>movies</th>\n",
       "      <th>path</th>\n",
       "      <th>id</th>\n",
       "      <th>Movie</th>\n",
       "      <th>Level</th>\n",
       "    </tr>\n",
       "  </thead>\n",
       "  <tbody>\n",
       "    <tr>\n",
       "      <th>0</th>\n",
       "      <td>B2</td>\n",
       "      <td>Crown, The S01E01 - Wolferton Splash.en</td>\n",
       "      <td>datasets/Subtitles_all/B2/Crown, The S01E01 - ...</td>\n",
       "      <td>NaN</td>\n",
       "      <td>NaN</td>\n",
       "      <td>NaN</td>\n",
       "    </tr>\n",
       "    <tr>\n",
       "      <th>1</th>\n",
       "      <td>B2</td>\n",
       "      <td>Suits.Episode 1- Denial</td>\n",
       "      <td>datasets/Subtitles_all/B2/Suits.Episode 1- Den...</td>\n",
       "      <td>156.0</td>\n",
       "      <td>Suits.Episode 1- Denial</td>\n",
       "      <td>B2</td>\n",
       "    </tr>\n",
       "    <tr>\n",
       "      <th>2</th>\n",
       "      <td>B2</td>\n",
       "      <td>Crazy4TV.com - Suits.S06E06.720p.BluRay.x265.H...</td>\n",
       "      <td>datasets/Subtitles_all/B2/Crazy4TV.com - Suits...</td>\n",
       "      <td>141.0</td>\n",
       "      <td>Crazy4TV.com - Suits.S06E06.720p.BluRay.x265.H...</td>\n",
       "      <td>B2</td>\n",
       "    </tr>\n",
       "    <tr>\n",
       "      <th>3</th>\n",
       "      <td>B2</td>\n",
       "      <td>Suits.S02E08.HDTV.x264-EVOLVE</td>\n",
       "      <td>datasets/Subtitles_all/B2/Suits.S02E08.HDTV.x2...</td>\n",
       "      <td>191.0</td>\n",
       "      <td>Suits.S02E08.HDTV.x264-EVOLVE</td>\n",
       "      <td>B2</td>\n",
       "    </tr>\n",
       "    <tr>\n",
       "      <th>4</th>\n",
       "      <td>B2</td>\n",
       "      <td>Virgin.River.S01E07.INTERNAL.720p.WEB.x264-STRiFE</td>\n",
       "      <td>datasets/Subtitles_all/B2/Virgin.River.S01E07....</td>\n",
       "      <td>NaN</td>\n",
       "      <td>NaN</td>\n",
       "      <td>NaN</td>\n",
       "    </tr>\n",
       "    <tr>\n",
       "      <th>...</th>\n",
       "      <td>...</td>\n",
       "      <td>...</td>\n",
       "      <td>...</td>\n",
       "      <td>...</td>\n",
       "      <td>...</td>\n",
       "      <td>...</td>\n",
       "    </tr>\n",
       "    <tr>\n",
       "      <th>273</th>\n",
       "      <td>Subtitles</td>\n",
       "      <td>Matilda(1996)</td>\n",
       "      <td>datasets/Subtitles_all/Subtitles/Matilda(1996)...</td>\n",
       "      <td>56.0</td>\n",
       "      <td>Matilda(1996)</td>\n",
       "      <td>B1</td>\n",
       "    </tr>\n",
       "    <tr>\n",
       "      <th>274</th>\n",
       "      <td>Subtitles</td>\n",
       "      <td>Her(2013)</td>\n",
       "      <td>datasets/Subtitles_all/Subtitles/Her(2013).srt</td>\n",
       "      <td>39.0</td>\n",
       "      <td>Her(2013)</td>\n",
       "      <td>A2/A2+, B1</td>\n",
       "    </tr>\n",
       "    <tr>\n",
       "      <th>275</th>\n",
       "      <td>Subtitles</td>\n",
       "      <td>The_Fundamentals_of_Caring(2016)</td>\n",
       "      <td>datasets/Subtitles_all/Subtitles/The_Fundament...</td>\n",
       "      <td>77.0</td>\n",
       "      <td>The_Fundamentals_of_Caring(2016)</td>\n",
       "      <td>B1</td>\n",
       "    </tr>\n",
       "    <tr>\n",
       "      <th>276</th>\n",
       "      <td>Subtitles</td>\n",
       "      <td>The_Intern(2015)</td>\n",
       "      <td>datasets/Subtitles_all/Subtitles/The_Intern(20...</td>\n",
       "      <td>79.0</td>\n",
       "      <td>The_Intern(2015)</td>\n",
       "      <td>B2</td>\n",
       "    </tr>\n",
       "    <tr>\n",
       "      <th>277</th>\n",
       "      <td>Subtitles</td>\n",
       "      <td>Aladdin(1992)</td>\n",
       "      <td>datasets/Subtitles_all/Subtitles/Aladdin(1992)...</td>\n",
       "      <td>4.0</td>\n",
       "      <td>Aladdin(1992)</td>\n",
       "      <td>A2/A2+</td>\n",
       "    </tr>\n",
       "  </tbody>\n",
       "</table>\n",
       "<p>278 rows × 6 columns</p>\n",
       "</div>"
      ],
      "text/plain": [
       "         level                                             movies  \\\n",
       "0           B2            Crown, The S01E01 - Wolferton Splash.en   \n",
       "1           B2                            Suits.Episode 1- Denial   \n",
       "2           B2  Crazy4TV.com - Suits.S06E06.720p.BluRay.x265.H...   \n",
       "3           B2                      Suits.S02E08.HDTV.x264-EVOLVE   \n",
       "4           B2  Virgin.River.S01E07.INTERNAL.720p.WEB.x264-STRiFE   \n",
       "..         ...                                                ...   \n",
       "273  Subtitles                                      Matilda(1996)   \n",
       "274  Subtitles                                          Her(2013)   \n",
       "275  Subtitles                   The_Fundamentals_of_Caring(2016)   \n",
       "276  Subtitles                                   The_Intern(2015)   \n",
       "277  Subtitles                                      Aladdin(1992)   \n",
       "\n",
       "                                                  path     id  \\\n",
       "0    datasets/Subtitles_all/B2/Crown, The S01E01 - ...    NaN   \n",
       "1    datasets/Subtitles_all/B2/Suits.Episode 1- Den...  156.0   \n",
       "2    datasets/Subtitles_all/B2/Crazy4TV.com - Suits...  141.0   \n",
       "3    datasets/Subtitles_all/B2/Suits.S02E08.HDTV.x2...  191.0   \n",
       "4    datasets/Subtitles_all/B2/Virgin.River.S01E07....    NaN   \n",
       "..                                                 ...    ...   \n",
       "273  datasets/Subtitles_all/Subtitles/Matilda(1996)...   56.0   \n",
       "274     datasets/Subtitles_all/Subtitles/Her(2013).srt   39.0   \n",
       "275  datasets/Subtitles_all/Subtitles/The_Fundament...   77.0   \n",
       "276  datasets/Subtitles_all/Subtitles/The_Intern(20...   79.0   \n",
       "277  datasets/Subtitles_all/Subtitles/Aladdin(1992)...    4.0   \n",
       "\n",
       "                                                 Movie       Level  \n",
       "0                                                  NaN         NaN  \n",
       "1                              Suits.Episode 1- Denial          B2  \n",
       "2    Crazy4TV.com - Suits.S06E06.720p.BluRay.x265.H...          B2  \n",
       "3                        Suits.S02E08.HDTV.x264-EVOLVE          B2  \n",
       "4                                                  NaN         NaN  \n",
       "..                                                 ...         ...  \n",
       "273                                      Matilda(1996)          B1  \n",
       "274                                          Her(2013)  A2/A2+, B1  \n",
       "275                   The_Fundamentals_of_Caring(2016)          B1  \n",
       "276                                   The_Intern(2015)          B2  \n",
       "277                                      Aladdin(1992)      A2/A2+  \n",
       "\n",
       "[278 rows x 6 columns]"
      ]
     },
     "execution_count": 24,
     "metadata": {},
     "output_type": "execute_result"
    }
   ],
   "source": [
    "df"
   ]
  },
  {
   "cell_type": "code",
   "execution_count": 25,
   "id": "ddd366a0",
   "metadata": {},
   "outputs": [],
   "source": [
    "def assign_level(row):\n",
    "    if row['level'] == 'Subtitles':\n",
    "        row['level'] = row['Level']\n",
    "    return row"
   ]
  },
  {
   "cell_type": "code",
   "execution_count": 26,
   "id": "c37468ef",
   "metadata": {},
   "outputs": [
    {
     "data": {
      "text/html": [
       "<div>\n",
       "<style scoped>\n",
       "    .dataframe tbody tr th:only-of-type {\n",
       "        vertical-align: middle;\n",
       "    }\n",
       "\n",
       "    .dataframe tbody tr th {\n",
       "        vertical-align: top;\n",
       "    }\n",
       "\n",
       "    .dataframe thead th {\n",
       "        text-align: right;\n",
       "    }\n",
       "</style>\n",
       "<table border=\"1\" class=\"dataframe\">\n",
       "  <thead>\n",
       "    <tr style=\"text-align: right;\">\n",
       "      <th></th>\n",
       "      <th>level</th>\n",
       "      <th>movies</th>\n",
       "      <th>path</th>\n",
       "    </tr>\n",
       "  </thead>\n",
       "  <tbody>\n",
       "    <tr>\n",
       "      <th>0</th>\n",
       "      <td>B2</td>\n",
       "      <td>Crown, The S01E01 - Wolferton Splash.en</td>\n",
       "      <td>datasets/Subtitles_all/B2/Crown, The S01E01 - ...</td>\n",
       "    </tr>\n",
       "    <tr>\n",
       "      <th>1</th>\n",
       "      <td>B2</td>\n",
       "      <td>Suits.Episode 1- Denial</td>\n",
       "      <td>datasets/Subtitles_all/B2/Suits.Episode 1- Den...</td>\n",
       "    </tr>\n",
       "    <tr>\n",
       "      <th>2</th>\n",
       "      <td>B2</td>\n",
       "      <td>Crazy4TV.com - Suits.S06E06.720p.BluRay.x265.H...</td>\n",
       "      <td>datasets/Subtitles_all/B2/Crazy4TV.com - Suits...</td>\n",
       "    </tr>\n",
       "    <tr>\n",
       "      <th>3</th>\n",
       "      <td>B2</td>\n",
       "      <td>Suits.S02E08.HDTV.x264-EVOLVE</td>\n",
       "      <td>datasets/Subtitles_all/B2/Suits.S02E08.HDTV.x2...</td>\n",
       "    </tr>\n",
       "    <tr>\n",
       "      <th>4</th>\n",
       "      <td>B2</td>\n",
       "      <td>Virgin.River.S01E07.INTERNAL.720p.WEB.x264-STRiFE</td>\n",
       "      <td>datasets/Subtitles_all/B2/Virgin.River.S01E07....</td>\n",
       "    </tr>\n",
       "  </tbody>\n",
       "</table>\n",
       "</div>"
      ],
      "text/plain": [
       "  level                                             movies  \\\n",
       "0    B2            Crown, The S01E01 - Wolferton Splash.en   \n",
       "1    B2                            Suits.Episode 1- Denial   \n",
       "2    B2  Crazy4TV.com - Suits.S06E06.720p.BluRay.x265.H...   \n",
       "3    B2                      Suits.S02E08.HDTV.x264-EVOLVE   \n",
       "4    B2  Virgin.River.S01E07.INTERNAL.720p.WEB.x264-STRiFE   \n",
       "\n",
       "                                                path  \n",
       "0  datasets/Subtitles_all/B2/Crown, The S01E01 - ...  \n",
       "1  datasets/Subtitles_all/B2/Suits.Episode 1- Den...  \n",
       "2  datasets/Subtitles_all/B2/Crazy4TV.com - Suits...  \n",
       "3  datasets/Subtitles_all/B2/Suits.S02E08.HDTV.x2...  \n",
       "4  datasets/Subtitles_all/B2/Virgin.River.S01E07....  "
      ]
     },
     "execution_count": 26,
     "metadata": {},
     "output_type": "execute_result"
    }
   ],
   "source": [
    "df = df.apply(assign_level, axis = 1)\n",
    "df = df[['level', 'movies', 'path']]\n",
    "df.head()"
   ]
  },
  {
   "cell_type": "markdown",
   "id": "e8016325",
   "metadata": {},
   "source": [
    "Считаем субтитры из файлов и присоединим их к таблице."
   ]
  },
  {
   "cell_type": "code",
   "execution_count": 27,
   "id": "7c2516b9",
   "metadata": {},
   "outputs": [],
   "source": [
    "def get_encoding(path):\n",
    "    detector = UniversalDetector() \n",
    "    with open(path, 'rb') as file:\n",
    "        for line in file:\n",
    "            detector.feed(line)\n",
    "            if detector.done:\n",
    "                break\n",
    "    detector.close()\n",
    "    return detector.result['encoding']\n",
    "\n",
    "def read_subs(path):\n",
    "    subs = pysrt.open(path, get_encoding(path))\n",
    "    text = ''\n",
    "    for sub in subs:\n",
    "        text += (sub.text + ' ')\n",
    "    return text"
   ]
  },
  {
   "cell_type": "code",
   "execution_count": 28,
   "id": "9d72c7e2",
   "metadata": {},
   "outputs": [
    {
     "name": "stdout",
     "output_type": "stream",
     "text": [
      "CPU times: user 37.5 s, sys: 57.3 ms, total: 37.6 s\n",
      "Wall time: 37.6 s\n"
     ]
    }
   ],
   "source": [
    "%%time\n",
    "df['subs'] = df['path'].apply(read_subs)"
   ]
  },
  {
   "cell_type": "markdown",
   "id": "68c71009",
   "metadata": {},
   "source": [
    "Выведем итоговые данные."
   ]
  },
  {
   "cell_type": "code",
   "execution_count": 29,
   "id": "1b1b51e2",
   "metadata": {},
   "outputs": [
    {
     "data": {
      "text/html": [
       "<div>\n",
       "<style scoped>\n",
       "    .dataframe tbody tr th:only-of-type {\n",
       "        vertical-align: middle;\n",
       "    }\n",
       "\n",
       "    .dataframe tbody tr th {\n",
       "        vertical-align: top;\n",
       "    }\n",
       "\n",
       "    .dataframe thead th {\n",
       "        text-align: right;\n",
       "    }\n",
       "</style>\n",
       "<table border=\"1\" class=\"dataframe\">\n",
       "  <thead>\n",
       "    <tr style=\"text-align: right;\">\n",
       "      <th></th>\n",
       "      <th>level</th>\n",
       "      <th>movies</th>\n",
       "      <th>path</th>\n",
       "      <th>subs</th>\n",
       "    </tr>\n",
       "  </thead>\n",
       "  <tbody>\n",
       "    <tr>\n",
       "      <th>0</th>\n",
       "      <td>B2</td>\n",
       "      <td>Crown, The S01E01 - Wolferton Splash.en</td>\n",
       "      <td>datasets/Subtitles_all/B2/Crown, The S01E01 - ...</td>\n",
       "      <td>In seeking his British\\nnationalization, His R...</td>\n",
       "    </tr>\n",
       "    <tr>\n",
       "      <th>1</th>\n",
       "      <td>B2</td>\n",
       "      <td>Suits.Episode 1- Denial</td>\n",
       "      <td>datasets/Subtitles_all/B2/Suits.Episode 1- Den...</td>\n",
       "      <td>You're the most amazing woman\\nI have ever met...</td>\n",
       "    </tr>\n",
       "    <tr>\n",
       "      <th>2</th>\n",
       "      <td>B2</td>\n",
       "      <td>Crazy4TV.com - Suits.S06E06.720p.BluRay.x265.H...</td>\n",
       "      <td>datasets/Subtitles_all/B2/Crazy4TV.com - Suits...</td>\n",
       "      <td>(HARVEY READING) I've been after Sutter\\nfor t...</td>\n",
       "    </tr>\n",
       "    <tr>\n",
       "      <th>3</th>\n",
       "      <td>B2</td>\n",
       "      <td>Suits.S02E08.HDTV.x264-EVOLVE</td>\n",
       "      <td>datasets/Subtitles_all/B2/Suits.S02E08.HDTV.x2...</td>\n",
       "      <td>[Car horn blares] You're late. Nope. 30 second...</td>\n",
       "    </tr>\n",
       "    <tr>\n",
       "      <th>4</th>\n",
       "      <td>B2</td>\n",
       "      <td>Virgin.River.S01E07.INTERNAL.720p.WEB.x264-STRiFE</td>\n",
       "      <td>datasets/Subtitles_all/B2/Virgin.River.S01E07....</td>\n",
       "      <td>Are you sure I can't convince you to stay? No....</td>\n",
       "    </tr>\n",
       "  </tbody>\n",
       "</table>\n",
       "</div>"
      ],
      "text/plain": [
       "  level                                             movies  \\\n",
       "0    B2            Crown, The S01E01 - Wolferton Splash.en   \n",
       "1    B2                            Suits.Episode 1- Denial   \n",
       "2    B2  Crazy4TV.com - Suits.S06E06.720p.BluRay.x265.H...   \n",
       "3    B2                      Suits.S02E08.HDTV.x264-EVOLVE   \n",
       "4    B2  Virgin.River.S01E07.INTERNAL.720p.WEB.x264-STRiFE   \n",
       "\n",
       "                                                path  \\\n",
       "0  datasets/Subtitles_all/B2/Crown, The S01E01 - ...   \n",
       "1  datasets/Subtitles_all/B2/Suits.Episode 1- Den...   \n",
       "2  datasets/Subtitles_all/B2/Crazy4TV.com - Suits...   \n",
       "3  datasets/Subtitles_all/B2/Suits.S02E08.HDTV.x2...   \n",
       "4  datasets/Subtitles_all/B2/Virgin.River.S01E07....   \n",
       "\n",
       "                                                subs  \n",
       "0  In seeking his British\\nnationalization, His R...  \n",
       "1  You're the most amazing woman\\nI have ever met...  \n",
       "2  (HARVEY READING) I've been after Sutter\\nfor t...  \n",
       "3  [Car horn blares] You're late. Nope. 30 second...  \n",
       "4  Are you sure I can't convince you to stay? No....  "
      ]
     },
     "execution_count": 29,
     "metadata": {},
     "output_type": "execute_result"
    }
   ],
   "source": [
    "df.head()"
   ]
  },
  {
   "cell_type": "markdown",
   "id": "22318650",
   "metadata": {},
   "source": [
    "Колонки с названиями и путями более не нужны. Удалим их.\n",
    "\n",
    "Вывведем финальную таблицу."
   ]
  },
  {
   "cell_type": "code",
   "execution_count": 30,
   "id": "ad795dea",
   "metadata": {},
   "outputs": [
    {
     "data": {
      "text/html": [
       "<div>\n",
       "<style scoped>\n",
       "    .dataframe tbody tr th:only-of-type {\n",
       "        vertical-align: middle;\n",
       "    }\n",
       "\n",
       "    .dataframe tbody tr th {\n",
       "        vertical-align: top;\n",
       "    }\n",
       "\n",
       "    .dataframe thead th {\n",
       "        text-align: right;\n",
       "    }\n",
       "</style>\n",
       "<table border=\"1\" class=\"dataframe\">\n",
       "  <thead>\n",
       "    <tr style=\"text-align: right;\">\n",
       "      <th></th>\n",
       "      <th>level</th>\n",
       "      <th>subs</th>\n",
       "    </tr>\n",
       "  </thead>\n",
       "  <tbody>\n",
       "    <tr>\n",
       "      <th>0</th>\n",
       "      <td>B2</td>\n",
       "      <td>In seeking his British\\nnationalization, His R...</td>\n",
       "    </tr>\n",
       "    <tr>\n",
       "      <th>1</th>\n",
       "      <td>B2</td>\n",
       "      <td>You're the most amazing woman\\nI have ever met...</td>\n",
       "    </tr>\n",
       "    <tr>\n",
       "      <th>2</th>\n",
       "      <td>B2</td>\n",
       "      <td>(HARVEY READING) I've been after Sutter\\nfor t...</td>\n",
       "    </tr>\n",
       "    <tr>\n",
       "      <th>3</th>\n",
       "      <td>B2</td>\n",
       "      <td>[Car horn blares] You're late. Nope. 30 second...</td>\n",
       "    </tr>\n",
       "    <tr>\n",
       "      <th>4</th>\n",
       "      <td>B2</td>\n",
       "      <td>Are you sure I can't convince you to stay? No....</td>\n",
       "    </tr>\n",
       "  </tbody>\n",
       "</table>\n",
       "</div>"
      ],
      "text/plain": [
       "  level                                               subs\n",
       "0    B2  In seeking his British\\nnationalization, His R...\n",
       "1    B2  You're the most amazing woman\\nI have ever met...\n",
       "2    B2  (HARVEY READING) I've been after Sutter\\nfor t...\n",
       "3    B2  [Car horn blares] You're late. Nope. 30 second...\n",
       "4    B2  Are you sure I can't convince you to stay? No...."
      ]
     },
     "execution_count": 30,
     "metadata": {},
     "output_type": "execute_result"
    }
   ],
   "source": [
    "df = df [['level', 'subs']]\n",
    "df.head()"
   ]
  },
  {
   "cell_type": "markdown",
   "id": "439ac739",
   "metadata": {},
   "source": [
    "# Предобработка данных"
   ]
  },
  {
   "cell_type": "markdown",
   "id": "3dc23152",
   "metadata": {},
   "source": [
    "Почистим субтитры."
   ]
  },
  {
   "cell_type": "code",
   "execution_count": 31,
   "id": "3707529c",
   "metadata": {},
   "outputs": [],
   "source": [
    "def clean_html(text):\n",
    "    soup = BeautifulSoup(text, \"html.parser\")\n",
    "    for data in soup(['style', 'script', 'code', 'a']):\n",
    "        data.decompose()\n",
    "    return ' '.join(soup.stripped_strings)\n",
    "\n",
    "def to_lowercase(text):\n",
    "    return (text.lower())\n",
    "    \n",
    "def remove_puncuation(text):\n",
    "    translator = str.maketrans('', '', string.punctuation)\n",
    "    return (text.translate(translator))\n",
    "\n",
    "def remove_stop_words(text):\n",
    "    text = text.split()\n",
    "    stop_words = nltk.corpus.stopwords.words('english')\n",
    "    return ' '.join([word for word in text if not word in stop_words])\n",
    "\n",
    "def remove_digits(text):\n",
    "    return re.sub(r'\\w*\\d\\w*', '', text)\n",
    "\n",
    "def lemmatize(text):\n",
    "    text = NLP(text)\n",
    "    return ' '.join([token.lemma_ for token in text])\n",
    "\n",
    "def sub_preprocessing (text):\n",
    "    text = clean_html(text)\n",
    "    text = to_lowercase(text)\n",
    "    text = remove_puncuation(text)\n",
    "    text = remove_stop_words(text)\n",
    "    text = remove_digits(text)\n",
    "    text = lemmatize(text)\n",
    "    return text\n",
    "\n",
    "class preprocess():\n",
    "    \n",
    "    def fit(self, X, y):\n",
    "        return self\n",
    "    \n",
    "    def transform(self, text):\n",
    "        return sub_preprocessing(text)"
   ]
  },
  {
   "cell_type": "code",
   "execution_count": 32,
   "id": "5abf96da",
   "metadata": {},
   "outputs": [
    {
     "name": "stdout",
     "output_type": "stream",
     "text": [
      "CPU times: user 1min 7s, sys: 249 ms, total: 1min 7s\n",
      "Wall time: 1min 7s\n"
     ]
    },
    {
     "data": {
      "text/html": [
       "<div>\n",
       "<style scoped>\n",
       "    .dataframe tbody tr th:only-of-type {\n",
       "        vertical-align: middle;\n",
       "    }\n",
       "\n",
       "    .dataframe tbody tr th {\n",
       "        vertical-align: top;\n",
       "    }\n",
       "\n",
       "    .dataframe thead th {\n",
       "        text-align: right;\n",
       "    }\n",
       "</style>\n",
       "<table border=\"1\" class=\"dataframe\">\n",
       "  <thead>\n",
       "    <tr style=\"text-align: right;\">\n",
       "      <th></th>\n",
       "      <th>level</th>\n",
       "      <th>subs</th>\n",
       "    </tr>\n",
       "  </thead>\n",
       "  <tbody>\n",
       "    <tr>\n",
       "      <th>0</th>\n",
       "      <td>B2</td>\n",
       "      <td>seek british nationalization royal highness pr...</td>\n",
       "    </tr>\n",
       "    <tr>\n",
       "      <th>1</th>\n",
       "      <td>B2</td>\n",
       "      <td>you re amazing woman ever meet think you re ra...</td>\n",
       "    </tr>\n",
       "    <tr>\n",
       "      <th>2</th>\n",
       "      <td>B2</td>\n",
       "      <td>harvey read I ve sutter three year guy one sli...</td>\n",
       "    </tr>\n",
       "    <tr>\n",
       "      <th>3</th>\n",
       "      <td>B2</td>\n",
       "      <td>car horn blare you re late nope   second early...</td>\n",
       "    </tr>\n",
       "    <tr>\n",
       "      <th>4</th>\n",
       "      <td>B2</td>\n",
       "      <td>sure can not convince stay right time go home ...</td>\n",
       "    </tr>\n",
       "  </tbody>\n",
       "</table>\n",
       "</div>"
      ],
      "text/plain": [
       "  level                                               subs\n",
       "0    B2  seek british nationalization royal highness pr...\n",
       "1    B2  you re amazing woman ever meet think you re ra...\n",
       "2    B2  harvey read I ve sutter three year guy one sli...\n",
       "3    B2  car horn blare you re late nope   second early...\n",
       "4    B2  sure can not convince stay right time go home ..."
      ]
     },
     "execution_count": 32,
     "metadata": {},
     "output_type": "execute_result"
    }
   ],
   "source": [
    "%%time\n",
    "df['subs'] = df['subs'].apply(sub_preprocessing)\n",
    "df.head()"
   ]
  },
  {
   "cell_type": "markdown",
   "id": "d0c76f12",
   "metadata": {},
   "source": [
    "Посмотрим какие уровни языка содержатся в данных."
   ]
  },
  {
   "cell_type": "code",
   "execution_count": 33,
   "id": "ac2d5860",
   "metadata": {},
   "outputs": [
    {
     "data": {
      "text/plain": [
       "B2            0.489209\n",
       "B1            0.183453\n",
       "C1            0.140288\n",
       "A2/A2+        0.089928\n",
       "NaN           0.032374\n",
       "B1, B2        0.028777\n",
       "A2            0.021583\n",
       "A2/A2+, B1    0.014388\n",
       "Name: level, dtype: float64"
      ]
     },
     "execution_count": 33,
     "metadata": {},
     "output_type": "execute_result"
    }
   ],
   "source": [
    "df['level'].value_counts(dropna=False, normalize=True)"
   ]
  },
  {
   "cell_type": "markdown",
   "id": "8f365cda",
   "metadata": {},
   "source": [
    "Среди данных присутствуют строки с отсутствующими значениями. Их немного, поэтому удалим их."
   ]
  },
  {
   "cell_type": "code",
   "execution_count": 34,
   "id": "c9f9747c",
   "metadata": {},
   "outputs": [],
   "source": [
    "df = df.dropna()\n",
    "df = df.reset_index (drop=True)"
   ]
  },
  {
   "cell_type": "markdown",
   "id": "fd9b2fcf",
   "metadata": {},
   "source": [
    "Посмотрим на соотношение классов."
   ]
  },
  {
   "cell_type": "code",
   "execution_count": 35,
   "id": "52913736",
   "metadata": {},
   "outputs": [
    {
     "data": {
      "text/plain": [
       "B2            0.505576\n",
       "B1            0.189591\n",
       "C1            0.144981\n",
       "A2/A2+        0.092937\n",
       "B1, B2        0.029740\n",
       "A2            0.022305\n",
       "A2/A2+, B1    0.014870\n",
       "Name: level, dtype: float64"
      ]
     },
     "execution_count": 35,
     "metadata": {},
     "output_type": "execute_result"
    }
   ],
   "source": [
    "df['level'].value_counts(dropna=False, normalize=True)"
   ]
  },
  {
   "cell_type": "code",
   "execution_count": 36,
   "id": "87a59ba0",
   "metadata": {},
   "outputs": [
    {
     "data": {
      "image/png": "[encoded data removed]",
      "text/plain": [
       "<Figure size 1000x400 with 1 Axes>"
      ]
     },
     "metadata": {},
     "output_type": "display_data"
    }
   ],
   "source": [
    "df['level'].value_counts(normalize=True).plot(kind='bar', figsize = (10, 4));"
   ]
  },
  {
   "cell_type": "markdown",
   "id": "8f72fe1e",
   "metadata": {},
   "source": [
    "Объединим классы A2/A2+ и А2.\n",
    "\n",
    "Данные классов \"A2/A2+, B1\" и \"B1, B2\" удалим, так как данных в них немного и они могут быть слишком \"размытыми\"."
   ]
  },
  {
   "cell_type": "code",
   "execution_count": 37,
   "id": "9b26b7f8",
   "metadata": {},
   "outputs": [],
   "source": [
    "df.loc[df['level']=='A2/A2+', 'level'] = 'A2'\n",
    "df = df.query('level != \"A2/A2+, B1\" and level != \"B1, B2\"')"
   ]
  },
  {
   "cell_type": "markdown",
   "id": "779fa721",
   "metadata": {},
   "source": [
    "Еще раз взглянем на классы."
   ]
  },
  {
   "cell_type": "code",
   "execution_count": 38,
   "id": "2be0c38b",
   "metadata": {},
   "outputs": [
    {
     "data": {
      "text/plain": [
       "B2    0.529183\n",
       "B1    0.198444\n",
       "C1    0.151751\n",
       "A2    0.120623\n",
       "Name: level, dtype: float64"
      ]
     },
     "execution_count": 38,
     "metadata": {},
     "output_type": "execute_result"
    }
   ],
   "source": [
    "df['level'].value_counts(normalize=True)"
   ]
  },
  {
   "cell_type": "code",
   "execution_count": 39,
   "id": "6272ee41",
   "metadata": {},
   "outputs": [
    {
     "data": {
      "image/png": "[encoded data removed]",
      "text/plain": [
       "<Figure size 1000x400 with 1 Axes>"
      ]
     },
     "metadata": {},
     "output_type": "display_data"
    }
   ],
   "source": [
    "df['level'].value_counts(normalize=True).plot(kind='bar', figsize = (10, 4));"
   ]
  },
  {
   "cell_type": "markdown",
   "id": "d7265491",
   "metadata": {},
   "source": [
    "Проведем кодирование таргетов техникой OneHotEncoding"
   ]
  },
  {
   "cell_type": "code",
   "execution_count": 40,
   "id": "7cd7e97f",
   "metadata": {},
   "outputs": [],
   "source": [
    "df = df.join(pd.get_dummies(df['level']))"
   ]
  },
  {
   "cell_type": "markdown",
   "id": "28299ece",
   "metadata": {},
   "source": [
    "Посмотрим на финальную таблицу с данными"
   ]
  },
  {
   "cell_type": "code",
   "execution_count": 41,
   "id": "dae41600",
   "metadata": {},
   "outputs": [
    {
     "data": {
      "text/html": [
       "<div>\n",
       "<style scoped>\n",
       "    .dataframe tbody tr th:only-of-type {\n",
       "        vertical-align: middle;\n",
       "    }\n",
       "\n",
       "    .dataframe tbody tr th {\n",
       "        vertical-align: top;\n",
       "    }\n",
       "\n",
       "    .dataframe thead th {\n",
       "        text-align: right;\n",
       "    }\n",
       "</style>\n",
       "<table border=\"1\" class=\"dataframe\">\n",
       "  <thead>\n",
       "    <tr style=\"text-align: right;\">\n",
       "      <th></th>\n",
       "      <th>level</th>\n",
       "      <th>subs</th>\n",
       "      <th>A2</th>\n",
       "      <th>B1</th>\n",
       "      <th>B2</th>\n",
       "      <th>C1</th>\n",
       "    </tr>\n",
       "  </thead>\n",
       "  <tbody>\n",
       "    <tr>\n",
       "      <th>0</th>\n",
       "      <td>B2</td>\n",
       "      <td>seek british nationalization royal highness pr...</td>\n",
       "      <td>0</td>\n",
       "      <td>0</td>\n",
       "      <td>1</td>\n",
       "      <td>0</td>\n",
       "    </tr>\n",
       "    <tr>\n",
       "      <th>1</th>\n",
       "      <td>B2</td>\n",
       "      <td>you re amazing woman ever meet think you re ra...</td>\n",
       "      <td>0</td>\n",
       "      <td>0</td>\n",
       "      <td>1</td>\n",
       "      <td>0</td>\n",
       "    </tr>\n",
       "    <tr>\n",
       "      <th>2</th>\n",
       "      <td>B2</td>\n",
       "      <td>harvey read I ve sutter three year guy one sli...</td>\n",
       "      <td>0</td>\n",
       "      <td>0</td>\n",
       "      <td>1</td>\n",
       "      <td>0</td>\n",
       "    </tr>\n",
       "    <tr>\n",
       "      <th>3</th>\n",
       "      <td>B2</td>\n",
       "      <td>car horn blare you re late nope   second early...</td>\n",
       "      <td>0</td>\n",
       "      <td>0</td>\n",
       "      <td>1</td>\n",
       "      <td>0</td>\n",
       "    </tr>\n",
       "    <tr>\n",
       "      <th>4</th>\n",
       "      <td>B2</td>\n",
       "      <td>sure can not convince stay right time go home ...</td>\n",
       "      <td>0</td>\n",
       "      <td>0</td>\n",
       "      <td>1</td>\n",
       "      <td>0</td>\n",
       "    </tr>\n",
       "    <tr>\n",
       "      <th>...</th>\n",
       "      <td>...</td>\n",
       "      <td>...</td>\n",
       "      <td>...</td>\n",
       "      <td>...</td>\n",
       "      <td>...</td>\n",
       "      <td>...</td>\n",
       "    </tr>\n",
       "    <tr>\n",
       "      <th>263</th>\n",
       "      <td>A2</td>\n",
       "      <td>must blink pay careful attention everything se...</td>\n",
       "      <td>1</td>\n",
       "      <td>0</td>\n",
       "      <td>0</td>\n",
       "      <td>0</td>\n",
       "    </tr>\n",
       "    <tr>\n",
       "      <th>264</th>\n",
       "      <td>B1</td>\n",
       "      <td>music narrator everyone bear everyone bear gro...</td>\n",
       "      <td>0</td>\n",
       "      <td>1</td>\n",
       "      <td>0</td>\n",
       "      <td>0</td>\n",
       "    </tr>\n",
       "    <tr>\n",
       "      <th>266</th>\n",
       "      <td>B1</td>\n",
       "      <td>caregive feed clothing cleaning also understan...</td>\n",
       "      <td>0</td>\n",
       "      <td>1</td>\n",
       "      <td>0</td>\n",
       "      <td>0</td>\n",
       "    </tr>\n",
       "    <tr>\n",
       "      <th>267</th>\n",
       "      <td>B2</td>\n",
       "      <td>freud say love work work love that s well I m ...</td>\n",
       "      <td>0</td>\n",
       "      <td>0</td>\n",
       "      <td>1</td>\n",
       "      <td>0</td>\n",
       "    </tr>\n",
       "    <tr>\n",
       "      <th>268</th>\n",
       "      <td>A2</td>\n",
       "      <td>oh come land faraway place caravan camels roam...</td>\n",
       "      <td>1</td>\n",
       "      <td>0</td>\n",
       "      <td>0</td>\n",
       "      <td>0</td>\n",
       "    </tr>\n",
       "  </tbody>\n",
       "</table>\n",
       "<p>257 rows × 6 columns</p>\n",
       "</div>"
      ],
      "text/plain": [
       "    level                                               subs  A2  B1  B2  C1\n",
       "0      B2  seek british nationalization royal highness pr...   0   0   1   0\n",
       "1      B2  you re amazing woman ever meet think you re ra...   0   0   1   0\n",
       "2      B2  harvey read I ve sutter three year guy one sli...   0   0   1   0\n",
       "3      B2  car horn blare you re late nope   second early...   0   0   1   0\n",
       "4      B2  sure can not convince stay right time go home ...   0   0   1   0\n",
       "..    ...                                                ...  ..  ..  ..  ..\n",
       "263    A2  must blink pay careful attention everything se...   1   0   0   0\n",
       "264    B1  music narrator everyone bear everyone bear gro...   0   1   0   0\n",
       "266    B1  caregive feed clothing cleaning also understan...   0   1   0   0\n",
       "267    B2  freud say love work work love that s well I m ...   0   0   1   0\n",
       "268    A2  oh come land faraway place caravan camels roam...   1   0   0   0\n",
       "\n",
       "[257 rows x 6 columns]"
      ]
     },
     "execution_count": 41,
     "metadata": {},
     "output_type": "execute_result"
    }
   ],
   "source": [
    "df"
   ]
  },
  {
   "cell_type": "markdown",
   "id": "f6d236ff",
   "metadata": {},
   "source": [
    "# Разработка ML модели"
   ]
  },
  {
   "cell_type": "markdown",
   "id": "4bd3d7e0",
   "metadata": {},
   "source": [
    "Разделим данные на обучающие и тестовые"
   ]
  },
  {
   "cell_type": "code",
   "execution_count": 42,
   "id": "d13d8d90",
   "metadata": {},
   "outputs": [],
   "source": [
    "df_train, df_test = train_test_split (df, train_size = 0.7, stratify = df['level'], random_state=0)"
   ]
  },
  {
   "cell_type": "code",
   "execution_count": 43,
   "id": "510f02cb",
   "metadata": {},
   "outputs": [],
   "source": [
    "count = CountVectorizer()\n",
    "tfidf = TfidfTransformer(use_idf=True, norm='l2', smooth_idf=True)"
   ]
  },
  {
   "cell_type": "markdown",
   "id": "69493563",
   "metadata": {},
   "source": [
    "Выделим признаки и таргеты в отдельные переменные. Таргеты для каждого уровня английского языка будут отличаться, признаки будут одинаковые для всех."
   ]
  },
  {
   "cell_type": "code",
   "execution_count": 44,
   "id": "edf0d2b8",
   "metadata": {},
   "outputs": [],
   "source": [
    "levels = ['A2', 'B1', 'B2', 'C1']\n",
    "\n",
    "X_train = df_train['subs']\n",
    "y_train = [df_train[level] for level in levels]\n",
    "\n",
    "X_test = df_test['subs']\n",
    "y_test = [df_test[level] for level in levels]"
   ]
  },
  {
   "cell_type": "markdown",
   "id": "a69e6486",
   "metadata": {},
   "source": [
    "Используем несколько классификаторов"
   ]
  },
  {
   "cell_type": "code",
   "execution_count": 45,
   "id": "80316a00",
   "metadata": {},
   "outputs": [],
   "source": [
    "clfs = [LogisticRegression, RandomForestClassifier, XGBClassifier]"
   ]
  },
  {
   "cell_type": "markdown",
   "id": "90192498",
   "metadata": {},
   "source": [
    "Посмотрим на метрики различных моделей для каждого уровня английского языка"
   ]
  },
  {
   "cell_type": "code",
   "execution_count": 46,
   "id": "e6cb8cd3",
   "metadata": {
    "scrolled": false
   },
   "outputs": [
    {
     "name": "stdout",
     "output_type": "stream",
     "text": [
      "\n",
      "Accuracy scores:\n"
     ]
    },
    {
     "data": {
      "text/html": [
       "<div>\n",
       "<style scoped>\n",
       "    .dataframe tbody tr th:only-of-type {\n",
       "        vertical-align: middle;\n",
       "    }\n",
       "\n",
       "    .dataframe tbody tr th {\n",
       "        vertical-align: top;\n",
       "    }\n",
       "\n",
       "    .dataframe thead th {\n",
       "        text-align: right;\n",
       "    }\n",
       "</style>\n",
       "<table border=\"1\" class=\"dataframe\">\n",
       "  <thead>\n",
       "    <tr style=\"text-align: right;\">\n",
       "      <th></th>\n",
       "      <th>LogisticRegression</th>\n",
       "      <th>RandomForestClassifier</th>\n",
       "      <th>XGBClassifier</th>\n",
       "    </tr>\n",
       "  </thead>\n",
       "  <tbody>\n",
       "    <tr>\n",
       "      <th>A2</th>\n",
       "      <td>0.910256</td>\n",
       "      <td>0.884615</td>\n",
       "      <td>0.884615</td>\n",
       "    </tr>\n",
       "    <tr>\n",
       "      <th>B1</th>\n",
       "      <td>0.794872</td>\n",
       "      <td>0.807692</td>\n",
       "      <td>0.833333</td>\n",
       "    </tr>\n",
       "    <tr>\n",
       "      <th>B2</th>\n",
       "      <td>0.756410</td>\n",
       "      <td>0.730769</td>\n",
       "      <td>0.653846</td>\n",
       "    </tr>\n",
       "    <tr>\n",
       "      <th>C1</th>\n",
       "      <td>0.961538</td>\n",
       "      <td>0.858974</td>\n",
       "      <td>0.961538</td>\n",
       "    </tr>\n",
       "  </tbody>\n",
       "</table>\n",
       "</div>"
      ],
      "text/plain": [
       "    LogisticRegression  RandomForestClassifier  XGBClassifier\n",
       "A2            0.910256                0.884615       0.884615\n",
       "B1            0.794872                0.807692       0.833333\n",
       "B2            0.756410                0.730769       0.653846\n",
       "C1            0.961538                0.858974       0.961538"
      ]
     },
     "metadata": {},
     "output_type": "display_data"
    },
    {
     "name": "stdout",
     "output_type": "stream",
     "text": [
      "\n",
      "F1_scores:\n"
     ]
    },
    {
     "data": {
      "text/html": [
       "<div>\n",
       "<style scoped>\n",
       "    .dataframe tbody tr th:only-of-type {\n",
       "        vertical-align: middle;\n",
       "    }\n",
       "\n",
       "    .dataframe tbody tr th {\n",
       "        vertical-align: top;\n",
       "    }\n",
       "\n",
       "    .dataframe thead th {\n",
       "        text-align: right;\n",
       "    }\n",
       "</style>\n",
       "<table border=\"1\" class=\"dataframe\">\n",
       "  <thead>\n",
       "    <tr style=\"text-align: right;\">\n",
       "      <th></th>\n",
       "      <th>LogisticRegression</th>\n",
       "      <th>RandomForestClassifier</th>\n",
       "      <th>XGBClassifier</th>\n",
       "    </tr>\n",
       "  </thead>\n",
       "  <tbody>\n",
       "    <tr>\n",
       "      <th>A2</th>\n",
       "      <td>0.461538</td>\n",
       "      <td>0.000000</td>\n",
       "      <td>0.181818</td>\n",
       "    </tr>\n",
       "    <tr>\n",
       "      <th>B1</th>\n",
       "      <td>0.384615</td>\n",
       "      <td>0.117647</td>\n",
       "      <td>0.434783</td>\n",
       "    </tr>\n",
       "    <tr>\n",
       "      <th>B2</th>\n",
       "      <td>0.771084</td>\n",
       "      <td>0.758621</td>\n",
       "      <td>0.649351</td>\n",
       "    </tr>\n",
       "    <tr>\n",
       "      <th>C1</th>\n",
       "      <td>0.869565</td>\n",
       "      <td>0.153846</td>\n",
       "      <td>0.857143</td>\n",
       "    </tr>\n",
       "  </tbody>\n",
       "</table>\n",
       "</div>"
      ],
      "text/plain": [
       "    LogisticRegression  RandomForestClassifier  XGBClassifier\n",
       "A2            0.461538                0.000000       0.181818\n",
       "B1            0.384615                0.117647       0.434783\n",
       "B2            0.771084                0.758621       0.649351\n",
       "C1            0.869565                0.153846       0.857143"
      ]
     },
     "metadata": {},
     "output_type": "display_data"
    }
   ],
   "source": [
    "f1_metrics_df = pd.DataFrame()\n",
    "f1_metrics = {}\n",
    "accuracy_metrics_df = pd.DataFrame()\n",
    "accuracy_metrics = {}\n",
    "for y_trn, y_tst, lvl in zip(y_train, y_test, levels):\n",
    "    for clf in clfs:\n",
    "        if clf == LogisticRegression:\n",
    "            model = Pipeline([('count', count),\n",
    "                              ('clf', clf(random_state=0, max_iter=300))])\n",
    "        else:\n",
    "            model = Pipeline([('count', count),\n",
    "                              ('clf', clf(random_state=0))])\n",
    "        model.fit(X_train, y_trn)\n",
    "        prediction = model.predict(X_test)\n",
    "        f1_metrics[clf.__name__] = [f1_score(y_tst, prediction)]\n",
    "        accuracy_metrics[clf.__name__] = [accuracy_score(y_tst, prediction)]\n",
    "    f1_metrics_df = pd.concat([f1_metrics_df, pd.DataFrame(f1_metrics)])\n",
    "    accuracy_metrics_df = pd.concat([accuracy_metrics_df, pd.DataFrame(accuracy_metrics)])\n",
    "f1_metrics_df.index = levels\n",
    "accuracy_metrics_df.index = levels\n",
    "print ('\\nAccuracy scores:')\n",
    "display(accuracy_metrics_df)\n",
    "print ('\\nF1_scores:')\n",
    "display(f1_metrics_df)"
   ]
  },
  {
   "cell_type": "markdown",
   "id": "d66688d5",
   "metadata": {},
   "source": [
    "В связи с крайне низкой метрикой F1-меры исключим модель случайного леса из дальнейших расчетов.\n",
    "\n",
    "Модель логистической регрессии показывает чуть лучшие результаты, при этом она лучше в классе B2, в котором более 50% данных."
   ]
  },
  {
   "cell_type": "code",
   "execution_count": 47,
   "id": "612ebc89",
   "metadata": {},
   "outputs": [],
   "source": [
    "clfs = [LogisticRegression, XGBClassifier]\n",
    "accuracy_metrics_df = accuracy_metrics_df.drop('RandomForestClassifier', axis=1)\n",
    "f1_metrics_df = f1_metrics_df.drop('RandomForestClassifier', axis=1)"
   ]
  },
  {
   "cell_type": "markdown",
   "id": "0f27a7fa",
   "metadata": {},
   "source": [
    "Попробуем совместить предсказания моделей. \n",
    "\n",
    "Для этого подадим предсказания моделей в новую модель в качестве признаков. \n",
    "\n",
    "Обучим модели на обучающих данных и сделаем на них предсказания, затем данные предсказания будем использовать в качестве признаков и обучим новые модели. В эти модели уже подадим текущие предсказания."
   ]
  },
  {
   "cell_type": "code",
   "execution_count": 48,
   "id": "1bf2ce14",
   "metadata": {
    "scrolled": false
   },
   "outputs": [
    {
     "name": "stdout",
     "output_type": "stream",
     "text": [
      "\n",
      "F1 and accuracy scores for features_based models:\n"
     ]
    },
    {
     "data": {
      "text/html": [
       "<div>\n",
       "<style scoped>\n",
       "    .dataframe tbody tr th:only-of-type {\n",
       "        vertical-align: middle;\n",
       "    }\n",
       "\n",
       "    .dataframe tbody tr th {\n",
       "        vertical-align: top;\n",
       "    }\n",
       "\n",
       "    .dataframe thead th {\n",
       "        text-align: right;\n",
       "    }\n",
       "</style>\n",
       "<table border=\"1\" class=\"dataframe\">\n",
       "  <thead>\n",
       "    <tr style=\"text-align: right;\">\n",
       "      <th></th>\n",
       "      <th>LogisticRegression_F1_score</th>\n",
       "      <th>XGBClassifier_F1_score</th>\n",
       "      <th>LogisticRegression_accuracy</th>\n",
       "      <th>XGBClassifier_accuracy</th>\n",
       "    </tr>\n",
       "  </thead>\n",
       "  <tbody>\n",
       "    <tr>\n",
       "      <th>A2</th>\n",
       "      <td>0.200000</td>\n",
       "      <td>0.461538</td>\n",
       "      <td>0.897436</td>\n",
       "      <td>0.910256</td>\n",
       "    </tr>\n",
       "    <tr>\n",
       "      <th>B1</th>\n",
       "      <td>0.380952</td>\n",
       "      <td>0.384615</td>\n",
       "      <td>0.833333</td>\n",
       "      <td>0.794872</td>\n",
       "    </tr>\n",
       "    <tr>\n",
       "      <th>B2</th>\n",
       "      <td>0.747253</td>\n",
       "      <td>0.771084</td>\n",
       "      <td>0.705128</td>\n",
       "      <td>0.756410</td>\n",
       "    </tr>\n",
       "    <tr>\n",
       "      <th>C1</th>\n",
       "      <td>0.857143</td>\n",
       "      <td>0.869565</td>\n",
       "      <td>0.961538</td>\n",
       "      <td>0.961538</td>\n",
       "    </tr>\n",
       "  </tbody>\n",
       "</table>\n",
       "</div>"
      ],
      "text/plain": [
       "    LogisticRegression_F1_score  XGBClassifier_F1_score  \\\n",
       "A2                     0.200000                0.461538   \n",
       "B1                     0.380952                0.384615   \n",
       "B2                     0.747253                0.771084   \n",
       "C1                     0.857143                0.869565   \n",
       "\n",
       "    LogisticRegression_accuracy  XGBClassifier_accuracy  \n",
       "A2                     0.897436                0.910256  \n",
       "B1                     0.833333                0.794872  \n",
       "B2                     0.705128                0.756410  \n",
       "C1                     0.961538                0.961538  "
      ]
     },
     "execution_count": 48,
     "metadata": {},
     "output_type": "execute_result"
    }
   ],
   "source": [
    "f1_metrics_features_based_df = pd.DataFrame()\n",
    "f1_metrics_features_based = {}\n",
    "accuracy_metrics_features_based_df = pd.DataFrame()\n",
    "accuracy_metrics_features_based = {}\n",
    "\n",
    "for y_trn, y_tst, level,  in zip(y_train, y_test, levels):\n",
    "    train_pred = pd.DataFrame()\n",
    "    test_pred = pd.DataFrame()\n",
    "    \n",
    "    for clf in clfs:\n",
    "        if clf == LogisticRegression:\n",
    "            model = Pipeline([('count', count),\n",
    "                              ('clf', clf(random_state=0, max_iter=300))])\n",
    "        else:\n",
    "            model = Pipeline([('count', count),\n",
    "                              ('clf', clf(random_state=0))])\n",
    "        model.fit(X_train, y_trn)\n",
    "        train_pred[clf.__name__] = model.predict(X_train)\n",
    "        test_pred[clf.__name__] = model.predict(X_test)\n",
    "    \n",
    "    for clf in clfs:\n",
    "        model = clf(random_state=0)\n",
    "        model.fit(train_pred, y_trn)\n",
    "        prediction = model.predict(test_pred)\n",
    "        f1_metrics_features_based[clf.__name__] = [f1_score(y_tst, prediction)]\n",
    "        accuracy_metrics_features_based[clf.__name__] = [accuracy_score(y_tst, prediction)]\n",
    "    f1_metrics_features_based_df = pd.concat([f1_metrics_features_based_df, \n",
    "                                              pd.DataFrame(f1_metrics_features_based)])\n",
    "    accuracy_metrics_features_based_df = pd.concat([accuracy_metrics_features_based_df,\n",
    "                                                    pd.DataFrame(accuracy_metrics_features_based)])\n",
    "\n",
    "f1_metrics_features_based_df.index = levels\n",
    "accuracy_metrics_features_based_df.index = levels\n",
    "\n",
    "print ('\\nF1 and accuracy scores for features_based models:')\n",
    "\n",
    "f1_metrics_features_based_df.join(accuracy_metrics_features_based_df, how='left',\n",
    "                                  lsuffix = \"_F1_score\", rsuffix = '_accuracy')"
   ]
  },
  {
   "cell_type": "markdown",
   "id": "43fddd60",
   "metadata": {},
   "source": [
    "Выведем еще раз метрики изначальных моделей и сравним метрики моделей, основанных на изначальных данных с метриками моделей, основанных на предсказаниях."
   ]
  },
  {
   "cell_type": "code",
   "execution_count": 49,
   "id": "96f3ef9b",
   "metadata": {},
   "outputs": [
    {
     "name": "stdout",
     "output_type": "stream",
     "text": [
      "\n",
      "F1 and accuracy scores for models:\n"
     ]
    },
    {
     "data": {
      "text/html": [
       "<div>\n",
       "<style scoped>\n",
       "    .dataframe tbody tr th:only-of-type {\n",
       "        vertical-align: middle;\n",
       "    }\n",
       "\n",
       "    .dataframe tbody tr th {\n",
       "        vertical-align: top;\n",
       "    }\n",
       "\n",
       "    .dataframe thead th {\n",
       "        text-align: right;\n",
       "    }\n",
       "</style>\n",
       "<table border=\"1\" class=\"dataframe\">\n",
       "  <thead>\n",
       "    <tr style=\"text-align: right;\">\n",
       "      <th></th>\n",
       "      <th>LogisticRegression_F1_score</th>\n",
       "      <th>XGBClassifier_F1_score</th>\n",
       "      <th>LogisticRegression_accuracy</th>\n",
       "      <th>XGBClassifier_accuracy</th>\n",
       "    </tr>\n",
       "  </thead>\n",
       "  <tbody>\n",
       "    <tr>\n",
       "      <th>A2</th>\n",
       "      <td>0.461538</td>\n",
       "      <td>0.181818</td>\n",
       "      <td>0.910256</td>\n",
       "      <td>0.884615</td>\n",
       "    </tr>\n",
       "    <tr>\n",
       "      <th>B1</th>\n",
       "      <td>0.384615</td>\n",
       "      <td>0.434783</td>\n",
       "      <td>0.794872</td>\n",
       "      <td>0.833333</td>\n",
       "    </tr>\n",
       "    <tr>\n",
       "      <th>B2</th>\n",
       "      <td>0.771084</td>\n",
       "      <td>0.649351</td>\n",
       "      <td>0.756410</td>\n",
       "      <td>0.653846</td>\n",
       "    </tr>\n",
       "    <tr>\n",
       "      <th>C1</th>\n",
       "      <td>0.869565</td>\n",
       "      <td>0.857143</td>\n",
       "      <td>0.961538</td>\n",
       "      <td>0.961538</td>\n",
       "    </tr>\n",
       "  </tbody>\n",
       "</table>\n",
       "</div>"
      ],
      "text/plain": [
       "    LogisticRegression_F1_score  XGBClassifier_F1_score  \\\n",
       "A2                     0.461538                0.181818   \n",
       "B1                     0.384615                0.434783   \n",
       "B2                     0.771084                0.649351   \n",
       "C1                     0.869565                0.857143   \n",
       "\n",
       "    LogisticRegression_accuracy  XGBClassifier_accuracy  \n",
       "A2                     0.910256                0.884615  \n",
       "B1                     0.794872                0.833333  \n",
       "B2                     0.756410                0.653846  \n",
       "C1                     0.961538                0.961538  "
      ]
     },
     "execution_count": 49,
     "metadata": {},
     "output_type": "execute_result"
    }
   ],
   "source": [
    "print ('\\nF1 and accuracy scores for models:')\n",
    "f1_metrics_df.join(accuracy_metrics_df, how='left',\n",
    "                   lsuffix = \"_F1_score\", rsuffix = '_accuracy')"
   ]
  },
  {
   "cell_type": "markdown",
   "id": "b2c70299",
   "metadata": {},
   "source": [
    "Можно заметить что в новых моделях лучшие метрики у классификатора XGBClassifier, однако они в точности совпадают с метриками модели логистической регрессии, обученной на начальных признаках.\n",
    "\n",
    "Видимо новая модель подобрала такие веса, что ее результаты стали копировать результаты логистической регрессии, а значит в данном наборе моделей логистическая регрессия, обученная на начальных данных является оптимальной.\n",
    "\n",
    "Создадим финальные модели.\n",
    "\n",
    "Напишем класс, который объединит все модели в себе и будет выдавать предсказания.\n",
    "\n",
    "На вход в качестве таргета он будет принимать уже непосредственно столбец, содержащий уровни английского языка."
   ]
  },
  {
   "cell_type": "code",
   "execution_count": 50,
   "id": "36661ec0",
   "metadata": {},
   "outputs": [],
   "source": [
    "X_train = df_train['subs']\n",
    "y_train = df_train['level']\n",
    "\n",
    "X_test = df_test['subs']\n",
    "y_test = df_test['level']"
   ]
  },
  {
   "cell_type": "code",
   "execution_count": 51,
   "id": "cf77e65a",
   "metadata": {},
   "outputs": [],
   "source": [
    "class my_nlp_model():\n",
    "    \n",
    "    def __str__(self):\n",
    "        return 'my_nlp_model'\n",
    "    \n",
    "    def __repr__(self):\n",
    "        return self.__str__()\n",
    "    \n",
    "    def is_fitted(self):\n",
    "        if not self.fitted:\n",
    "            print ('Model is not fitted')\n",
    "            return False\n",
    "        else:\n",
    "            return True\n",
    "        \n",
    "    def init_parameters(self, y):\n",
    "        y_df = pd.DataFrame(y)\n",
    "        y_df.columns = ['level']\n",
    "        y_df = pd.get_dummies(y_df['level'])\n",
    "        self.levels = [level for level in y_df.columns]\n",
    "        self.models = [Pipeline([('count', CountVectorizer()),\n",
    "                                 ('clf', LogisticRegression(random_state=0, max_iter=500))])\n",
    "                       for level in self.levels]\n",
    "        self.y_level_targets = [y_df[level] for level in y_df.columns]\n",
    "        \n",
    "    def fit(self, X, y):\n",
    "        self.init_parameters(y)\n",
    "        for y_train, model in zip(self.y_level_targets, self.models):\n",
    "            model.fit(X, y_train)\n",
    "        self.fitted = True\n",
    "    \n",
    "    def predict_proba(self, X):\n",
    "        if self.is_fitted():\n",
    "            pred_proba = pd.DataFrame()\n",
    "            for model, level in zip (self.models, self.levels):\n",
    "                pred_proba[level] = model.predict_proba(X)[:, 1]\n",
    "            return pred_proba\n",
    "    \n",
    "    def predict(self, X):\n",
    "        if self.is_fitted():\n",
    "            return self.predict_proba(X).idxmax(axis=1)\n",
    "    \n",
    "    def score(self, X, y):\n",
    "        if self.is_fitted():\n",
    "            return accuracy_score(y, self.predict(X))\n",
    "    \n",
    "    def score_by_classes(self, X, y):\n",
    "        if self.is_fitted():\n",
    "            prediction = self.predict(X)\n",
    "            score = pd.DataFrame()\n",
    "            for level in self.levels:\n",
    "                p = prediction.apply(lambda x: 1 if x==level else 0)\n",
    "                y_leveled = y.apply(lambda x: 1 if x==level else 0)\n",
    "                score = pd.concat([score, pd.DataFrame([[accuracy_score(y_leveled, p), f1_score(y_leveled, p)]], index=[level])])\n",
    "            score.columns = ['accuracy', 'F1_score']        \n",
    "            return score"
   ]
  },
  {
   "cell_type": "code",
   "execution_count": 52,
   "id": "76eaf0c4",
   "metadata": {},
   "outputs": [],
   "source": [
    "model = my_nlp_model()"
   ]
  },
  {
   "cell_type": "code",
   "execution_count": 53,
   "id": "f1bc0e0e",
   "metadata": {},
   "outputs": [],
   "source": [
    "model.fit(X_train, y_train)"
   ]
  },
  {
   "cell_type": "markdown",
   "id": "22fe2bba",
   "metadata": {},
   "source": [
    "Выведем совокупную accuracy модели."
   ]
  },
  {
   "cell_type": "code",
   "execution_count": 54,
   "id": "c72822b4",
   "metadata": {},
   "outputs": [
    {
     "data": {
      "text/plain": [
       "0.6794871794871795"
      ]
     },
     "execution_count": 54,
     "metadata": {},
     "output_type": "execute_result"
    }
   ],
   "source": [
    "model.score(X_test, y_test)"
   ]
  },
  {
   "cell_type": "markdown",
   "id": "e6828c73",
   "metadata": {},
   "source": [
    "Выведем метрики в разрезе классов."
   ]
  },
  {
   "cell_type": "code",
   "execution_count": 55,
   "id": "25e17cc5",
   "metadata": {},
   "outputs": [
    {
     "data": {
      "text/html": [
       "<div>\n",
       "<style scoped>\n",
       "    .dataframe tbody tr th:only-of-type {\n",
       "        vertical-align: middle;\n",
       "    }\n",
       "\n",
       "    .dataframe tbody tr th {\n",
       "        vertical-align: top;\n",
       "    }\n",
       "\n",
       "    .dataframe thead th {\n",
       "        text-align: right;\n",
       "    }\n",
       "</style>\n",
       "<table border=\"1\" class=\"dataframe\">\n",
       "  <thead>\n",
       "    <tr style=\"text-align: right;\">\n",
       "      <th></th>\n",
       "      <th>accuracy</th>\n",
       "      <th>F1_score</th>\n",
       "    </tr>\n",
       "  </thead>\n",
       "  <tbody>\n",
       "    <tr>\n",
       "      <th>A2</th>\n",
       "      <td>0.858974</td>\n",
       "      <td>0.352941</td>\n",
       "    </tr>\n",
       "    <tr>\n",
       "      <th>B1</th>\n",
       "      <td>0.769231</td>\n",
       "      <td>0.437500</td>\n",
       "    </tr>\n",
       "    <tr>\n",
       "      <th>B2</th>\n",
       "      <td>0.782051</td>\n",
       "      <td>0.800000</td>\n",
       "    </tr>\n",
       "    <tr>\n",
       "      <th>C1</th>\n",
       "      <td>0.948718</td>\n",
       "      <td>0.818182</td>\n",
       "    </tr>\n",
       "  </tbody>\n",
       "</table>\n",
       "</div>"
      ],
      "text/plain": [
       "    accuracy  F1_score\n",
       "A2  0.858974  0.352941\n",
       "B1  0.769231  0.437500\n",
       "B2  0.782051  0.800000\n",
       "C1  0.948718  0.818182"
      ]
     },
     "execution_count": 55,
     "metadata": {},
     "output_type": "execute_result"
    }
   ],
   "source": [
    "model.score_by_classes(X_test, y_test)"
   ]
  },
  {
   "cell_type": "markdown",
   "id": "90185412",
   "metadata": {},
   "source": [
    "Выведем предсказания модели."
   ]
  },
  {
   "cell_type": "code",
   "execution_count": 56,
   "id": "5964c3cd",
   "metadata": {},
   "outputs": [
    {
     "data": {
      "text/plain": [
       "0     A2\n",
       "1     B1\n",
       "2     B2\n",
       "3     B2\n",
       "4     B2\n",
       "      ..\n",
       "73    B2\n",
       "74    B2\n",
       "75    B1\n",
       "76    B1\n",
       "77    B2\n",
       "Length: 78, dtype: object"
      ]
     },
     "execution_count": 56,
     "metadata": {},
     "output_type": "execute_result"
    }
   ],
   "source": [
    "model.predict(X_test)"
   ]
  },
  {
   "cell_type": "markdown",
   "id": "2773dbe3",
   "metadata": {},
   "source": [
    "Выведем вероятности принадлежности к классам, расчитанные моделью."
   ]
  },
  {
   "cell_type": "code",
   "execution_count": 57,
   "id": "12efc90d",
   "metadata": {},
   "outputs": [
    {
     "data": {
      "text/html": [
       "<div>\n",
       "<style scoped>\n",
       "    .dataframe tbody tr th:only-of-type {\n",
       "        vertical-align: middle;\n",
       "    }\n",
       "\n",
       "    .dataframe tbody tr th {\n",
       "        vertical-align: top;\n",
       "    }\n",
       "\n",
       "    .dataframe thead th {\n",
       "        text-align: right;\n",
       "    }\n",
       "</style>\n",
       "<table border=\"1\" class=\"dataframe\">\n",
       "  <thead>\n",
       "    <tr style=\"text-align: right;\">\n",
       "      <th></th>\n",
       "      <th>A2</th>\n",
       "      <th>B1</th>\n",
       "      <th>B2</th>\n",
       "      <th>C1</th>\n",
       "    </tr>\n",
       "  </thead>\n",
       "  <tbody>\n",
       "    <tr>\n",
       "      <th>0</th>\n",
       "      <td>0.022866</td>\n",
       "      <td>0.013418</td>\n",
       "      <td>0.022187</td>\n",
       "      <td>2.041392e-07</td>\n",
       "    </tr>\n",
       "    <tr>\n",
       "      <th>1</th>\n",
       "      <td>0.179446</td>\n",
       "      <td>0.632660</td>\n",
       "      <td>0.025788</td>\n",
       "      <td>6.124967e-08</td>\n",
       "    </tr>\n",
       "    <tr>\n",
       "      <th>2</th>\n",
       "      <td>0.004741</td>\n",
       "      <td>0.052572</td>\n",
       "      <td>0.186850</td>\n",
       "      <td>1.609394e-05</td>\n",
       "    </tr>\n",
       "    <tr>\n",
       "      <th>3</th>\n",
       "      <td>0.000337</td>\n",
       "      <td>0.000052</td>\n",
       "      <td>0.844279</td>\n",
       "      <td>2.360433e-03</td>\n",
       "    </tr>\n",
       "    <tr>\n",
       "      <th>4</th>\n",
       "      <td>0.000108</td>\n",
       "      <td>0.000015</td>\n",
       "      <td>0.998795</td>\n",
       "      <td>4.939698e-05</td>\n",
       "    </tr>\n",
       "    <tr>\n",
       "      <th>...</th>\n",
       "      <td>...</td>\n",
       "      <td>...</td>\n",
       "      <td>...</td>\n",
       "      <td>...</td>\n",
       "    </tr>\n",
       "    <tr>\n",
       "      <th>73</th>\n",
       "      <td>0.000005</td>\n",
       "      <td>0.000006</td>\n",
       "      <td>0.999983</td>\n",
       "      <td>2.982581e-05</td>\n",
       "    </tr>\n",
       "    <tr>\n",
       "      <th>74</th>\n",
       "      <td>0.000040</td>\n",
       "      <td>0.000002</td>\n",
       "      <td>0.863346</td>\n",
       "      <td>5.696986e-02</td>\n",
       "    </tr>\n",
       "    <tr>\n",
       "      <th>75</th>\n",
       "      <td>0.001995</td>\n",
       "      <td>0.953965</td>\n",
       "      <td>0.000206</td>\n",
       "      <td>6.211590e-05</td>\n",
       "    </tr>\n",
       "    <tr>\n",
       "      <th>76</th>\n",
       "      <td>0.083612</td>\n",
       "      <td>0.418810</td>\n",
       "      <td>0.000007</td>\n",
       "      <td>3.319084e-05</td>\n",
       "    </tr>\n",
       "    <tr>\n",
       "      <th>77</th>\n",
       "      <td>0.000028</td>\n",
       "      <td>0.000245</td>\n",
       "      <td>0.999771</td>\n",
       "      <td>7.741756e-05</td>\n",
       "    </tr>\n",
       "  </tbody>\n",
       "</table>\n",
       "<p>78 rows × 4 columns</p>\n",
       "</div>"
      ],
      "text/plain": [
       "          A2        B1        B2            C1\n",
       "0   0.022866  0.013418  0.022187  2.041392e-07\n",
       "1   0.179446  0.632660  0.025788  6.124967e-08\n",
       "2   0.004741  0.052572  0.186850  1.609394e-05\n",
       "3   0.000337  0.000052  0.844279  2.360433e-03\n",
       "4   0.000108  0.000015  0.998795  4.939698e-05\n",
       "..       ...       ...       ...           ...\n",
       "73  0.000005  0.000006  0.999983  2.982581e-05\n",
       "74  0.000040  0.000002  0.863346  5.696986e-02\n",
       "75  0.001995  0.953965  0.000206  6.211590e-05\n",
       "76  0.083612  0.418810  0.000007  3.319084e-05\n",
       "77  0.000028  0.000245  0.999771  7.741756e-05\n",
       "\n",
       "[78 rows x 4 columns]"
      ]
     },
     "execution_count": 57,
     "metadata": {},
     "output_type": "execute_result"
    }
   ],
   "source": [
    "model.predict_proba(X_test)"
   ]
  },
  {
   "cell_type": "markdown",
   "id": "684e2611",
   "metadata": {},
   "source": [
    "# Заключение"
   ]
  },
  {
   "cell_type": "markdown",
   "id": "51c4eb97",
   "metadata": {},
   "source": [
    "В результате выполнения данного проекта разработана базовая модель NLP для определения уровня английского языка субтитров с совокупным accuracy 0.68 на тестовой выборке.\n",
    "\n",
    "Возможные пути улучшения модели:\n",
    "- добавление новых размеченных субтитров;\n",
    "- выделение новых признаков из субтитров (например, средняя длина слова, среднее количество слов в минуту);\n",
    "- добавление новых признаков извне (например словарей для определенных уровней языка);\n",
    "- подбор гиперпараметров моделей и добавление новых моделей."
   ]
  }
 ],
 "metadata": {
  "kernelspec": {
   "display_name": "Python 3 (ipykernel)",
   "language": "python",
   "name": "python3"
  },
  "language_info": {
   "codemirror_mode": {
    "name": "ipython",
    "version": 3
   },
   "file_extension": ".py",
   "mimetype": "text/x-python",
   "name": "python",
   "nbconvert_exporter": "python",
   "pygments_lexer": "ipython3",
   "version": "3.9.13"
  }
 },
 "nbformat": 4,
 "nbformat_minor": 5
}
